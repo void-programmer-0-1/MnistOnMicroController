{
 "cells": [
  {
   "cell_type": "code",
   "execution_count": 10,
   "source": [
    "import torch\n",
    "from torch import nn\n",
    "import torch.nn.functional as F\n",
    "import torchvision\n",
    "import torchvision.transforms as transforms\n"
   ],
   "outputs": [],
   "metadata": {
    "execution": {
     "iopub.execute_input": "2021-10-02T20:44:59.857920Z",
     "iopub.status.busy": "2021-10-02T20:44:59.857706Z",
     "iopub.status.idle": "2021-10-02T20:45:00.237859Z",
     "shell.execute_reply": "2021-10-02T20:45:00.237282Z",
     "shell.execute_reply.started": "2021-10-02T20:44:59.857898Z"
    }
   }
  },
  {
   "cell_type": "code",
   "execution_count": 11,
   "source": [
    "input_size = 28 * 28\n",
    "hidden_size = 100\n",
    "num_classes = 10\n",
    "\n",
    "num_epochs = 10\n",
    "batch_size = 100\n",
    "learning_rate = 0.001"
   ],
   "outputs": [],
   "metadata": {
    "execution": {
     "iopub.execute_input": "2021-10-02T20:45:08.469682Z",
     "iopub.status.busy": "2021-10-02T20:45:08.469519Z",
     "iopub.status.idle": "2021-10-02T20:45:08.472266Z",
     "shell.execute_reply": "2021-10-02T20:45:08.471770Z",
     "shell.execute_reply.started": "2021-10-02T20:45:08.469664Z"
    }
   }
  },
  {
   "cell_type": "code",
   "execution_count": 12,
   "source": [
    "train_data = torchvision.datasets.MNIST(root=\"./data\",train=True,download=True,transform=transforms.ToTensor())\n",
    "test_data = torchvision.datasets.MNIST(root=\"./data\",train=False,transform=transforms.ToTensor())\n",
    "\n",
    "train_loader = torch.utils.data.DataLoader(dataset=train_data,batch_size=batch_size,shuffle=True)\n",
    "test_loader = torch.utils.data.DataLoader(dataset=test_data,batch_size=batch_size,shuffle=False)"
   ],
   "outputs": [
    {
     "output_type": "stream",
     "name": "stdout",
     "text": [
      "Downloading http://yann.lecun.com/exdb/mnist/train-images-idx3-ubyte.gz to ./data/MNIST/raw/train-images-idx3-ubyte.gz\n"
     ]
    },
    {
     "output_type": "display_data",
     "data": {
      "application/vnd.jupyter.widget-view+json": {
       "model_id": "aea047f0a70549eebfab571c08c6d42f",
       "version_major": 2,
       "version_minor": 0
      },
      "text/plain": [
       "HBox(children=(HTML(value=''), FloatProgress(value=1.0, bar_style='info', layout=Layout(width='20px'), max=1.0…"
      ]
     },
     "metadata": {}
    },
    {
     "output_type": "stream",
     "name": "stdout",
     "text": [
      "Extracting ./data/MNIST/raw/train-images-idx3-ubyte.gz to ./data/MNIST/raw\n",
      "Downloading http://yann.lecun.com/exdb/mnist/train-labels-idx1-ubyte.gz to ./data/MNIST/raw/train-labels-idx1-ubyte.gz\n"
     ]
    },
    {
     "output_type": "display_data",
     "data": {
      "application/vnd.jupyter.widget-view+json": {
       "model_id": "67813c2e50bf40f79e23f45d5df695f7",
       "version_major": 2,
       "version_minor": 0
      },
      "text/plain": [
       "HBox(children=(HTML(value=''), FloatProgress(value=1.0, bar_style='info', layout=Layout(width='20px'), max=1.0…"
      ]
     },
     "metadata": {}
    },
    {
     "output_type": "stream",
     "name": "stdout",
     "text": [
      "Extracting ./data/MNIST/raw/train-labels-idx1-ubyte.gz to ./data/MNIST/raw\n",
      "Downloading http://yann.lecun.com/exdb/mnist/t10k-images-idx3-ubyte.gz to ./data/MNIST/raw/t10k-images-idx3-ubyte.gz\n",
      "\n"
     ]
    },
    {
     "output_type": "display_data",
     "data": {
      "application/vnd.jupyter.widget-view+json": {
       "model_id": "636331b6aa97482981e948b70e3bd9e4",
       "version_major": 2,
       "version_minor": 0
      },
      "text/plain": [
       "HBox(children=(HTML(value=''), FloatProgress(value=1.0, bar_style='info', layout=Layout(width='20px'), max=1.0…"
      ]
     },
     "metadata": {}
    },
    {
     "output_type": "stream",
     "name": "stdout",
     "text": [
      "Extracting ./data/MNIST/raw/t10k-images-idx3-ubyte.gz to ./data/MNIST/raw\n",
      "Downloading http://yann.lecun.com/exdb/mnist/t10k-labels-idx1-ubyte.gz to ./data/MNIST/raw/t10k-labels-idx1-ubyte.gz\n"
     ]
    },
    {
     "output_type": "display_data",
     "data": {
      "application/vnd.jupyter.widget-view+json": {
       "model_id": "9cd7d50e4e144b3caf60d1b68c2e56c2",
       "version_major": 2,
       "version_minor": 0
      },
      "text/plain": [
       "HBox(children=(HTML(value=''), FloatProgress(value=1.0, bar_style='info', layout=Layout(width='20px'), max=1.0…"
      ]
     },
     "metadata": {}
    },
    {
     "output_type": "stream",
     "name": "stdout",
     "text": [
      "Extracting ./data/MNIST/raw/t10k-labels-idx1-ubyte.gz to ./data/MNIST/raw\n",
      "Processing...\n",
      "Done!\n"
     ]
    },
    {
     "output_type": "stream",
     "name": "stderr",
     "text": [
      "/opt/tljh/user/lib/python3.7/site-packages/torchvision/datasets/mnist.py:480: UserWarning: The given NumPy array is not writeable, and PyTorch does not support non-writeable tensors. This means you can write to the underlying (supposedly non-writeable) NumPy array using the tensor. You may want to copy the array to protect its data or make it writeable before converting it to a tensor. This type of warning will be suppressed for the rest of this program. (Triggered internally at  /pytorch/torch/csrc/utils/tensor_numpy.cpp:141.)\n",
      "  return torch.from_numpy(parsed.astype(m[2], copy=False)).view(*s)\n"
     ]
    }
   ],
   "metadata": {
    "execution": {
     "iopub.execute_input": "2021-10-02T20:45:16.799663Z",
     "iopub.status.busy": "2021-10-02T20:45:16.799509Z",
     "iopub.status.idle": "2021-10-02T20:45:17.497179Z",
     "shell.execute_reply": "2021-10-02T20:45:17.496647Z",
     "shell.execute_reply.started": "2021-10-02T20:45:16.799647Z"
    }
   }
  },
  {
   "cell_type": "code",
   "execution_count": 27,
   "source": [
    "class NeuralNetwork(nn.Module):\n",
    "    def __init__(self):\n",
    "        batch_size = 100\n",
    "        super(NeuralNetwork, self).__init__()\n",
    "        self.fc = nn.Linear(784, batch_size)\n",
    "        self.fc2 = nn.Linear(batch_size, 10)\n",
    "\n",
    "    def forward(self, x):\n",
    "        x = x.view((-1, 784))\n",
    "        h = F.relu(self.fc(x))\n",
    "        h = self.fc2(h)\n",
    "        return F.log_softmax(h)\n",
    "    \n",
    "\n",
    "model = NeuralNetwork()"
   ],
   "outputs": [],
   "metadata": {
    "execution": {
     "iopub.execute_input": "2021-10-02T20:59:25.851234Z",
     "iopub.status.busy": "2021-10-02T20:59:25.851079Z",
     "iopub.status.idle": "2021-10-02T20:59:25.855809Z",
     "shell.execute_reply": "2021-10-02T20:59:25.855356Z",
     "shell.execute_reply.started": "2021-10-02T20:59:25.851217Z"
    }
   }
  },
  {
   "cell_type": "code",
   "execution_count": 29,
   "source": [
    "model = NeuralNetwork()\n",
    "\n",
    "loss_fn = nn.CrossEntropyLoss()\n",
    "optimizer = torch.optim.Adam(model.parameters(),lr=learning_rate)"
   ],
   "outputs": [],
   "metadata": {
    "execution": {
     "iopub.execute_input": "2021-10-02T20:59:34.231239Z",
     "iopub.status.busy": "2021-10-02T20:59:34.231070Z",
     "iopub.status.idle": "2021-10-02T20:59:34.235042Z",
     "shell.execute_reply": "2021-10-02T20:59:34.234594Z",
     "shell.execute_reply.started": "2021-10-02T20:59:34.231221Z"
    }
   }
  },
  {
   "cell_type": "code",
   "execution_count": 31,
   "source": [
    "model.train()\n",
    "n_total_steps = len(train_loader)\n",
    "\n",
    "for epoch in range(num_epochs):\n",
    "    for i,(image,labels) in enumerate(train_loader):\n",
    "        \n",
    "        output = model(image)\n",
    "\n",
    "        loss = loss_fn(output,labels)\n",
    "\n",
    "        optimizer.zero_grad()\n",
    "        loss.backward()\n",
    "        optimizer.step()\n",
    "\n",
    "        if (i + 1) % 100 == 0:\n",
    "            print(f'epoch {epoch + 1} / {num_epochs} step {i + 1}/{n_total_steps}, loss = {loss.item():.4f}')\n"
   ],
   "outputs": [
    {
     "output_type": "stream",
     "name": "stderr",
     "text": [
      "/opt/tljh/user/lib/python3.7/site-packages/ipykernel_launcher.py:12: UserWarning: Implicit dimension choice for log_softmax has been deprecated. Change the call to include dim=X as an argument.\n",
      "  if sys.path[0] == '':\n"
     ]
    },
    {
     "output_type": "stream",
     "name": "stdout",
     "text": [
      "epoch 1 / 10 step 100/600, loss = 0.0174\n",
      "epoch 1 / 10 step 200/600, loss = 0.0229\n",
      "epoch 1 / 10 step 300/600, loss = 0.1620\n",
      "epoch 1 / 10 step 400/600, loss = 0.1027\n",
      "epoch 1 / 10 step 500/600, loss = 0.0806\n",
      "epoch 1 / 10 step 600/600, loss = 0.0616\n",
      "epoch 2 / 10 step 100/600, loss = 0.0522\n",
      "epoch 2 / 10 step 200/600, loss = 0.0070\n",
      "epoch 2 / 10 step 300/600, loss = 0.0114\n",
      "epoch 2 / 10 step 400/600, loss = 0.0212\n",
      "epoch 2 / 10 step 500/600, loss = 0.0161\n",
      "epoch 2 / 10 step 600/600, loss = 0.0282\n",
      "epoch 3 / 10 step 100/600, loss = 0.0221\n",
      "epoch 3 / 10 step 200/600, loss = 0.0413\n",
      "epoch 3 / 10 step 300/600, loss = 0.0092\n",
      "epoch 3 / 10 step 400/600, loss = 0.0806\n",
      "epoch 3 / 10 step 500/600, loss = 0.0339\n",
      "epoch 3 / 10 step 600/600, loss = 0.0281\n",
      "epoch 4 / 10 step 100/600, loss = 0.0246\n",
      "epoch 4 / 10 step 200/600, loss = 0.0160\n",
      "epoch 4 / 10 step 300/600, loss = 0.0230\n",
      "epoch 4 / 10 step 400/600, loss = 0.0224\n",
      "epoch 4 / 10 step 500/600, loss = 0.1039\n",
      "epoch 4 / 10 step 600/600, loss = 0.0104\n",
      "epoch 5 / 10 step 100/600, loss = 0.0135\n",
      "epoch 5 / 10 step 200/600, loss = 0.0090\n",
      "epoch 5 / 10 step 300/600, loss = 0.0138\n",
      "epoch 5 / 10 step 400/600, loss = 0.0526\n",
      "epoch 5 / 10 step 500/600, loss = 0.0317\n",
      "epoch 5 / 10 step 600/600, loss = 0.0368\n",
      "epoch 6 / 10 step 100/600, loss = 0.0097\n",
      "epoch 6 / 10 step 200/600, loss = 0.0156\n",
      "epoch 6 / 10 step 300/600, loss = 0.0101\n",
      "epoch 6 / 10 step 400/600, loss = 0.0212\n",
      "epoch 6 / 10 step 500/600, loss = 0.0271\n",
      "epoch 6 / 10 step 600/600, loss = 0.0211\n",
      "epoch 7 / 10 step 100/600, loss = 0.0092\n",
      "epoch 7 / 10 step 200/600, loss = 0.0080\n",
      "epoch 7 / 10 step 300/600, loss = 0.0049\n",
      "epoch 7 / 10 step 400/600, loss = 0.0055\n",
      "epoch 7 / 10 step 500/600, loss = 0.0547\n",
      "epoch 7 / 10 step 600/600, loss = 0.0145\n",
      "epoch 8 / 10 step 100/600, loss = 0.0150\n",
      "epoch 8 / 10 step 200/600, loss = 0.0205\n",
      "epoch 8 / 10 step 300/600, loss = 0.0032\n",
      "epoch 8 / 10 step 400/600, loss = 0.0026\n",
      "epoch 8 / 10 step 500/600, loss = 0.0103\n",
      "epoch 8 / 10 step 600/600, loss = 0.0108\n",
      "epoch 9 / 10 step 100/600, loss = 0.0102\n",
      "epoch 9 / 10 step 200/600, loss = 0.0070\n",
      "epoch 9 / 10 step 300/600, loss = 0.0165\n",
      "epoch 9 / 10 step 400/600, loss = 0.0076\n",
      "epoch 9 / 10 step 500/600, loss = 0.0251\n",
      "epoch 9 / 10 step 600/600, loss = 0.0059\n",
      "epoch 10 / 10 step 100/600, loss = 0.0078\n",
      "epoch 10 / 10 step 200/600, loss = 0.0049\n",
      "epoch 10 / 10 step 300/600, loss = 0.0047\n",
      "epoch 10 / 10 step 400/600, loss = 0.0091\n",
      "epoch 10 / 10 step 500/600, loss = 0.0088\n",
      "epoch 10 / 10 step 600/600, loss = 0.0127\n"
     ]
    }
   ],
   "metadata": {
    "execution": {
     "iopub.execute_input": "2021-10-02T21:00:53.295551Z",
     "iopub.status.busy": "2021-10-02T21:00:53.295381Z",
     "iopub.status.idle": "2021-10-02T21:02:03.971548Z",
     "shell.execute_reply": "2021-10-02T21:02:03.970949Z",
     "shell.execute_reply.started": "2021-10-02T21:00:53.295533Z"
    }
   }
  },
  {
   "cell_type": "code",
   "execution_count": 33,
   "source": [
    "with torch.no_grad():\n",
    "\n",
    "    n_correct = 0\n",
    "    n_sample = 0\n",
    "\n",
    "    for images, labels in test_loader:\n",
    "        images = images.reshape(-1, 28 * 28)\n",
    "        lables = labels\n",
    "        output = model(images)\n",
    "\n",
    "        _,predictions = torch.max(output,1)\n",
    "        n_sample += labels.shape[0]\n",
    "        n_correct = (predictions == labels).sum().item()\n",
    "\n",
    "    acc = 100 * n_correct / n_sample\n",
    "    print(f'accuracy = {acc}')\n"
   ],
   "outputs": [
    {
     "output_type": "stream",
     "name": "stderr",
     "text": [
      "/opt/tljh/user/lib/python3.7/site-packages/ipykernel_launcher.py:12: UserWarning: Implicit dimension choice for log_softmax has been deprecated. Change the call to include dim=X as an argument.\n",
      "  if sys.path[0] == '':\n"
     ]
    },
    {
     "output_type": "stream",
     "name": "stdout",
     "text": [
      "accuracy = 0.99\n"
     ]
    }
   ],
   "metadata": {
    "execution": {
     "iopub.execute_input": "2021-10-02T21:02:05.046086Z",
     "iopub.status.busy": "2021-10-02T21:02:05.045933Z",
     "iopub.status.idle": "2021-10-02T21:02:06.057599Z",
     "shell.execute_reply": "2021-10-02T21:02:06.057063Z",
     "shell.execute_reply.started": "2021-10-02T21:02:05.046070Z"
    }
   }
  },
  {
   "cell_type": "code",
   "execution_count": 34,
   "source": [
    "model_input = torch.randn(28 * 28)\n",
    "torch.save(model.state_dict(),\"mnist_model.pt\")\n",
    "torch.onnx.export(model,(model_input),\"./mnist.onnx\",verbose=True)"
   ],
   "outputs": [
    {
     "output_type": "stream",
     "name": "stdout",
     "text": [
      "graph(%0 : Float(784:1, requires_grad=0, device=cpu),\n",
      "      %fc.weight : Float(100:784, 784:1, requires_grad=1, device=cpu),\n",
      "      %fc.bias : Float(100:1, requires_grad=1, device=cpu),\n",
      "      %fc2.weight : Float(10:100, 100:1, requires_grad=1, device=cpu),\n",
      "      %fc2.bias : Float(10:1, requires_grad=1, device=cpu)):\n",
      "  %5 : Tensor = onnx::Constant[value=  -1  784 [ CPULongType{2} ]]()\n",
      "  %6 : Float(1:784, 784:1, requires_grad=0, device=cpu) = onnx::Reshape(%0, %5) # <ipython-input-27-1bb3f1c9cc57>:9:0\n",
      "  %7 : Float(1:100, 100:1, requires_grad=1, device=cpu) = onnx::Gemm[alpha=1., beta=1., transB=1](%6, %fc.weight, %fc.bias) # /opt/tljh/user/lib/python3.7/site-packages/torch/nn/functional.py:1690:0\n",
      "  %8 : Float(1:100, 100:1, requires_grad=1, device=cpu) = onnx::Relu(%7) # /opt/tljh/user/lib/python3.7/site-packages/torch/nn/functional.py:1136:0\n",
      "  %9 : Float(1:10, 10:1, requires_grad=1, device=cpu) = onnx::Gemm[alpha=1., beta=1., transB=1](%8, %fc2.weight, %fc2.bias) # /opt/tljh/user/lib/python3.7/site-packages/torch/nn/functional.py:1690:0\n",
      "  %10 : Float(1:10, 10:1, requires_grad=1, device=cpu) = onnx::LogSoftmax[axis=1](%9) # /opt/tljh/user/lib/python3.7/site-packages/torch/nn/functional.py:1605:0\n",
      "  return (%10)\n",
      "\n"
     ]
    },
    {
     "output_type": "stream",
     "name": "stderr",
     "text": [
      "/opt/tljh/user/lib/python3.7/site-packages/ipykernel_launcher.py:12: UserWarning: Implicit dimension choice for log_softmax has been deprecated. Change the call to include dim=X as an argument.\n",
      "  if sys.path[0] == '':\n"
     ]
    }
   ],
   "metadata": {
    "execution": {
     "iopub.execute_input": "2021-10-02T21:02:06.058439Z",
     "iopub.status.busy": "2021-10-02T21:02:06.058278Z",
     "iopub.status.idle": "2021-10-02T21:02:06.075504Z",
     "shell.execute_reply": "2021-10-02T21:02:06.074990Z",
     "shell.execute_reply.started": "2021-10-02T21:02:06.058419Z"
    }
   }
  },
  {
   "cell_type": "code",
   "execution_count": 36,
   "source": [
    "!deepCC mnist.onnx"
   ],
   "outputs": [
    {
     "output_type": "stream",
     "name": "stdout",
     "text": [
      "\u001b[96m\u001b[1m[INFO]\u001b[0m\n",
      "Reading [onnx model] 'mnist.onnx'\n",
      "\u001b[96m\u001b[1m[INFO]\u001b[0m\n",
      "Model info:\n",
      "  ir_vesion : 6\n",
      "  doc       : \n",
      "\u001b[96m\u001b[1m[INFO]\u001b[0m\n",
      "Running DNNC graph sanity check ...\n",
      "\u001b[92m\u001b[1m[SUCCESS]\u001b[0m\n",
      "Passed sanity check.\n",
      "\u001b[96m\u001b[1m[INFO]\u001b[0m\n",
      "Writing C++ file 'mnist_deepC/mnist.cpp'\n",
      "\u001b[96m\u001b[1m[INFO]\u001b[0m\n",
      "deepSea model files are ready in 'mnist_deepC/' \n",
      "\u001b[96m\u001b[1m[RUNNING COMMAND]\u001b[0m\n",
      "g++ -std=c++11 -O3 -fno-rtti -fno-exceptions -I. -I/opt/tljh/user/lib/python3.7/site-packages/deepC-0.13-py3.7-linux-x86_64.egg/deepC/include -isystem /opt/tljh/user/lib/python3.7/site-packages/deepC-0.13-py3.7-linux-x86_64.egg/deepC/packages/eigen-eigen-323c052e1731 \"mnist_deepC/mnist.cpp\" -D_AITS_MAIN -o \"mnist_deepC/mnist.exe\"\n",
      "\u001b[96m\u001b[1m[RUNNING COMMAND]\u001b[0m\n",
      "size \"mnist_deepC/mnist.exe\"\n",
      "   text\t   data\t    bss\t    dec\t    hex\tfilename\n",
      " 469684\t   3568\t    856\t 474108\t  73bfc\tmnist_deepC/mnist.exe\n",
      "\u001b[92m\u001b[1m[SUCCESS]\u001b[0m\n",
      "Saved model as executable \"mnist_deepC/mnist.exe\"\n"
     ]
    }
   ],
   "metadata": {
    "execution": {
     "iopub.execute_input": "2021-10-02T21:03:05.474923Z",
     "iopub.status.busy": "2021-10-02T21:03:05.474713Z",
     "iopub.status.idle": "2021-10-02T21:03:10.614584Z",
     "shell.execute_reply": "2021-10-02T21:03:10.614004Z",
     "shell.execute_reply.started": "2021-10-02T21:03:05.474902Z"
    }
   }
  },
  {
   "cell_type": "code",
   "execution_count": 39,
   "source": [
    "import numpy as np\n",
    "\n",
    "img_data = train_data[1][0].numpy()\n",
    "np.savetxt('img.data', img_data.flatten())"
   ],
   "outputs": [],
   "metadata": {
    "execution": {
     "iopub.execute_input": "2021-10-02T21:04:46.215365Z",
     "iopub.status.busy": "2021-10-02T21:04:46.215203Z",
     "iopub.status.idle": "2021-10-02T21:04:46.220894Z",
     "shell.execute_reply": "2021-10-02T21:04:46.220449Z",
     "shell.execute_reply.started": "2021-10-02T21:04:46.215347Z"
    }
   }
  },
  {
   "cell_type": "code",
   "execution_count": 43,
   "source": [
    "from PIL import Image\n",
    "import matplotlib.pyplot as plt\n",
    "\n",
    "img = Image.fromarray(img_data, 'RGB')\n",
    "\n",
    "plt.imshow(img_data.reshape(28,28))"
   ],
   "outputs": [
    {
     "output_type": "execute_result",
     "data": {
      "text/plain": [
       "<matplotlib.image.AxesImage at 0x7f57ed68d828>"
      ]
     },
     "metadata": {},
     "execution_count": 43
    },
    {
     "output_type": "display_data",
     "data": {
      "image/png": "[encoded data removed]",
      "text/plain": [
       "<Figure size 432x288 with 1 Axes>"
      ]
     },
     "metadata": {
      "needs_background": "light"
     }
    }
   ],
   "metadata": {
    "execution": {
     "iopub.execute_input": "2021-10-02T21:06:29.112275Z",
     "iopub.status.busy": "2021-10-02T21:06:29.112104Z",
     "iopub.status.idle": "2021-10-02T21:06:29.205688Z",
     "shell.execute_reply": "2021-10-02T21:06:29.205167Z",
     "shell.execute_reply.started": "2021-10-02T21:06:29.112255Z"
    }
   }
  },
  {
   "cell_type": "code",
   "execution_count": 45,
   "source": [
    "!./mnist_deepC/mnist.exe img.data"
   ],
   "outputs": [
    {
     "output_type": "stream",
     "name": "stdout",
     "text": [
      "writing file deepSea_result_1.out.\n"
     ]
    }
   ],
   "metadata": {
    "execution": {
     "iopub.execute_input": "2021-10-02T21:07:14.904472Z",
     "iopub.status.busy": "2021-10-02T21:07:14.904270Z",
     "iopub.status.idle": "2021-10-02T21:07:15.025585Z",
     "shell.execute_reply": "2021-10-02T21:07:15.025030Z",
     "shell.execute_reply.started": "2021-10-02T21:07:14.904451Z"
    }
   }
  },
  {
   "cell_type": "code",
   "execution_count": 47,
   "source": [
    "nn_out = np.loadtxt('deepSea_result_1.out')\n",
    "print (\"Model prediction is DIGIT : \", np.argmax(nn_out))"
   ],
   "outputs": [
    {
     "output_type": "stream",
     "name": "stdout",
     "text": [
      "Model prediction is DIGIT :  0\n"
     ]
    }
   ],
   "metadata": {
    "execution": {
     "iopub.execute_input": "2021-10-02T21:07:54.704117Z",
     "iopub.status.busy": "2021-10-02T21:07:54.703932Z",
     "iopub.status.idle": "2021-10-02T21:07:54.707928Z",
     "shell.execute_reply": "2021-10-02T21:07:54.707285Z",
     "shell.execute_reply.started": "2021-10-02T21:07:54.704089Z"
    }
   }
  }
 ],
 "metadata": {
  "kernelspec": {
   "display_name": "Python 3",
   "language": "python",
   "name": "python3"
  },
  "language_info": {
   "codemirror_mode": {
    "name": "ipython",
    "version": 3
   },
   "file_extension": ".py",
   "mimetype": "text/x-python",
   "name": "python",
   "nbconvert_exporter": "python",
   "pygments_lexer": "ipython3",
   "version": "3.7.3"
  }
 },
 "nbformat": 4,
 "nbformat_minor": 4
}